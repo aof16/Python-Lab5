{
 "cells": [
  {
   "cell_type": "code",
   "execution_count": 24,
   "id": "d04a1dd9",
   "metadata": {},
   "outputs": [
    {
     "name": "stdout",
     "output_type": "stream",
     "text": [
      "[5, 4, 3, 2, 1]\n",
      "[4, 3, 2, 1]\n",
      "[3, 2, 1]\n",
      "[2, 1]\n",
      "[1]\n"
     ]
    }
   ],
   "source": [
    "def lst(x):\n",
    "    y = x\n",
    "    my_list = []\n",
    "    for num in range(x):\n",
    "        my_list.append(x)\n",
    "        x = x -1\n",
    "    for y in range(y):\n",
    "        print(my_list)\n",
    "        my_list.pop(0)\n",
    "lst(5)   "
   ]
  }
 ],
 "metadata": {
  "kernelspec": {
   "display_name": "Python 3 (ipykernel)",
   "language": "python",
   "name": "python3"
  },
  "language_info": {
   "codemirror_mode": {
    "name": "ipython",
    "version": 3
   },
   "file_extension": ".py",
   "mimetype": "text/x-python",
   "name": "python",
   "nbconvert_exporter": "python",
   "pygments_lexer": "ipython3",
   "version": "3.9.12"
  }
 },
 "nbformat": 4,
 "nbformat_minor": 5
}
